{
 "cells": [
  {
   "cell_type": "markdown",
   "metadata": {},
   "source": [
    "# Querying the Census data API\n",
    "### US Census data is available through their API, more information at https://www.census.gov/data/developers/data-sets.html\n",
    "### This is most easily done through use of the CensusData python module \n",
    "- https://pypi.org/project/CensusData/"
   ]
  },
  {
   "cell_type": "markdown",
   "metadata": {},
   "source": [
    "### This notebook performs two queries from the Census data and returns the results in a single .csv file.\n",
    "### The two queries are:\n",
    "- Median Income by County\n",
    "- Gini Index by County"
   ]
  },
  {
   "cell_type": "code",
   "execution_count": 1,
   "metadata": {},
   "outputs": [],
   "source": [
    "# Import modules\n",
    "import pandas as pd\n",
    "import censusdata\n",
    "import numpy as np\n",
    "import matplotlib.pyplot as plt\n",
    "import seaborn as sns\n",
    "%matplotlib inline"
   ]
  },
  {
   "cell_type": "markdown",
   "metadata": {},
   "source": [
    "### Gini Index for income inequality on the county level.\n",
    "#### The Gini Index is a summary measure of income inequality. The Gini coefficient incorporates the detailed shares data into a single statistic, which summarizes the dispersion of income across the entire income distribution. The Gini coefficient ranges from 0, indicating perfect equality (where everyone receives an equal share), to 1, perfect inequality (where only one recipient or group of recipients receives all the income). The Gini is based on the difference between the Lorenz curve (the observed cumulative income distribution) and the notion of a perfectly equal income distribution. From https://www.census.gov/topics/income-poverty/income-inequality/about/metrics/gini-index.html\n",
    "### First, we search for the variable in the Census Data that contains the Gini Index so that we can query the correct variable name."
   ]
  },
  {
   "cell_type": "code",
   "execution_count": 2,
   "metadata": {},
   "outputs": [
    {
     "name": "stdout",
     "output_type": "stream",
     "text": [
      "[('B19083_001E', 'GINI INDEX OF INCOME INEQUALITY', 'Estimate!!Gini Index')]\n"
     ]
    }
   ],
   "source": [
    "# Print for confirmation\n",
    "print(censusdata.search('acs5', 2017, 'label','gini index'))\n",
    "# Save to variable as a list\n",
    "find = censusdata.search('acs5', 2017, 'label','gini index')[0][0]\n",
    "ginivar = []\n",
    "ginivar.append(find)"
   ]
  },
  {
   "cell_type": "markdown",
   "metadata": {},
   "source": [
    "### Retrieve the data"
   ]
  },
  {
   "cell_type": "code",
   "execution_count": 3,
   "metadata": {},
   "outputs": [
    {
     "name": "stdout",
     "output_type": "stream",
     "text": [
      "<class 'pandas.core.frame.DataFrame'>\n",
      "Int64Index: 3142 entries, 78 to 3219\n",
      "Data columns (total 2 columns):\n",
      "Location         3142 non-null object\n",
      "median_income    3142 non-null int64\n",
      "dtypes: int64(1), object(1)\n",
      "memory usage: 73.6+ KB\n"
     ]
    }
   ],
   "source": [
    "# Download the data after identifying the variable for median family income from ACS Shell Table\n",
    "# Median Family Income by county \n",
    "median_family_income = ['B19113_001E']\n",
    "median = censusdata.download('acs5',2017,geo=censusdata.censusgeo([('county', '*')]),var=median_family_income)\n",
    "# Rename the Median Family Income column\n",
    "median = median.rename(columns={'B19113_001E': 'median_income'})\n",
    "# Create a Location Column from the index\n",
    "median['Location'] = median.index\n",
    "# Reset the index\n",
    "median = median.reset_index(drop=True)\n",
    "# Drop Puerto Rico\n",
    "median = median[median['Location'].astype(str).str.contains(\"Puerto Rico:\")==False]\n",
    "# Arrange columns to more logical order\n",
    "median = median[['Location','median_income']]\n",
    "median.info()"
   ]
  },
  {
   "cell_type": "code",
   "execution_count": 4,
   "metadata": {},
   "outputs": [],
   "source": [
    "median.to_csv('Median Income by County.csv',index=False)"
   ]
  },
  {
   "cell_type": "code",
   "execution_count": 5,
   "metadata": {},
   "outputs": [
    {
     "data": {
      "text/html": [
       "<div>\n",
       "<style scoped>\n",
       "    .dataframe tbody tr th:only-of-type {\n",
       "        vertical-align: middle;\n",
       "    }\n",
       "\n",
       "    .dataframe tbody tr th {\n",
       "        vertical-align: top;\n",
       "    }\n",
       "\n",
       "    .dataframe thead th {\n",
       "        text-align: right;\n",
       "    }\n",
       "</style>\n",
       "<table border=\"1\" class=\"dataframe\">\n",
       "  <thead>\n",
       "    <tr style=\"text-align: right;\">\n",
       "      <th></th>\n",
       "      <th>median_income</th>\n",
       "    </tr>\n",
       "  </thead>\n",
       "  <tbody>\n",
       "    <tr>\n",
       "      <td>count</td>\n",
       "      <td>3142.000000</td>\n",
       "    </tr>\n",
       "    <tr>\n",
       "      <td>mean</td>\n",
       "      <td>61714.608848</td>\n",
       "    </tr>\n",
       "    <tr>\n",
       "      <td>std</td>\n",
       "      <td>15260.555544</td>\n",
       "    </tr>\n",
       "    <tr>\n",
       "      <td>min</td>\n",
       "      <td>22140.000000</td>\n",
       "    </tr>\n",
       "    <tr>\n",
       "      <td>25%</td>\n",
       "      <td>51634.750000</td>\n",
       "    </tr>\n",
       "    <tr>\n",
       "      <td>50%</td>\n",
       "      <td>59834.500000</td>\n",
       "    </tr>\n",
       "    <tr>\n",
       "      <td>75%</td>\n",
       "      <td>68977.250000</td>\n",
       "    </tr>\n",
       "    <tr>\n",
       "      <td>max</td>\n",
       "      <td>163203.000000</td>\n",
       "    </tr>\n",
       "  </tbody>\n",
       "</table>\n",
       "</div>"
      ],
      "text/plain": [
       "       median_income\n",
       "count    3142.000000\n",
       "mean    61714.608848\n",
       "std     15260.555544\n",
       "min     22140.000000\n",
       "25%     51634.750000\n",
       "50%     59834.500000\n",
       "75%     68977.250000\n",
       "max    163203.000000"
      ]
     },
     "execution_count": 5,
     "metadata": {},
     "output_type": "execute_result"
    }
   ],
   "source": [
    "median.describe()"
   ]
  },
  {
   "cell_type": "code",
   "execution_count": 6,
   "metadata": {},
   "outputs": [
    {
     "name": "stdout",
     "output_type": "stream",
     "text": [
      "Wall time: 1.31 s\n"
     ]
    },
    {
     "data": {
      "text/html": [
       "<div>\n",
       "<style scoped>\n",
       "    .dataframe tbody tr th:only-of-type {\n",
       "        vertical-align: middle;\n",
       "    }\n",
       "\n",
       "    .dataframe tbody tr th {\n",
       "        vertical-align: top;\n",
       "    }\n",
       "\n",
       "    .dataframe thead th {\n",
       "        text-align: right;\n",
       "    }\n",
       "</style>\n",
       "<table border=\"1\" class=\"dataframe\">\n",
       "  <thead>\n",
       "    <tr style=\"text-align: right;\">\n",
       "      <th></th>\n",
       "      <th>Location</th>\n",
       "      <th>gini_index</th>\n",
       "    </tr>\n",
       "  </thead>\n",
       "  <tbody>\n",
       "    <tr>\n",
       "      <td>78</td>\n",
       "      <td>Monroe County, Alabama: Summary level: 050, st...</td>\n",
       "      <td>0.5568</td>\n",
       "    </tr>\n",
       "    <tr>\n",
       "      <td>79</td>\n",
       "      <td>Lawrence County, Alabama: Summary level: 050, ...</td>\n",
       "      <td>0.4317</td>\n",
       "    </tr>\n",
       "    <tr>\n",
       "      <td>80</td>\n",
       "      <td>Lee County, Alabama: Summary level: 050, state...</td>\n",
       "      <td>0.5008</td>\n",
       "    </tr>\n",
       "    <tr>\n",
       "      <td>81</td>\n",
       "      <td>Marion County, Alabama: Summary level: 050, st...</td>\n",
       "      <td>0.4734</td>\n",
       "    </tr>\n",
       "    <tr>\n",
       "      <td>82</td>\n",
       "      <td>Pickens County, Alabama: Summary level: 050, s...</td>\n",
       "      <td>0.4840</td>\n",
       "    </tr>\n",
       "  </tbody>\n",
       "</table>\n",
       "</div>"
      ],
      "text/plain": [
       "                                             Location  gini_index\n",
       "78  Monroe County, Alabama: Summary level: 050, st...      0.5568\n",
       "79  Lawrence County, Alabama: Summary level: 050, ...      0.4317\n",
       "80  Lee County, Alabama: Summary level: 050, state...      0.5008\n",
       "81  Marion County, Alabama: Summary level: 050, st...      0.4734\n",
       "82  Pickens County, Alabama: Summary level: 050, s...      0.4840"
      ]
     },
     "execution_count": 6,
     "metadata": {},
     "output_type": "execute_result"
    }
   ],
   "source": [
    "%%time\n",
    "gini = censusdata.download('acs5',2017,geo=censusdata.censusgeo([('state', '*'),('county', '*')]),var=ginivar)\n",
    "# Rename the Gini Index column\n",
    "gini = gini.rename(columns={'B19083_001E': 'gini_index'})\n",
    "# Create a Location Column from the index\n",
    "gini['Location'] = gini.index\n",
    "# Reset the index\n",
    "gini = gini.reset_index(drop=True)\n",
    "# Drop Puerto Rico\n",
    "gini = gini[gini['Location'].astype(str).str.contains(\"Puerto Rico:\")==False]\n",
    "# Arrange columns to more logical order\n",
    "gini = gini[['Location','gini_index']]\n",
    "gini.head()"
   ]
  },
  {
   "cell_type": "code",
   "execution_count": 7,
   "metadata": {},
   "outputs": [
    {
     "name": "stdout",
     "output_type": "stream",
     "text": [
      "<class 'pandas.core.frame.DataFrame'>\n",
      "Int64Index: 3142 entries, 0 to 3141\n",
      "Data columns (total 3 columns):\n",
      "Location         3142 non-null object\n",
      "median_income    3142 non-null int64\n",
      "gini_index       3142 non-null float64\n",
      "dtypes: float64(1), int64(1), object(1)\n",
      "memory usage: 98.2+ KB\n"
     ]
    }
   ],
   "source": [
    "df = pd.merge(median, gini, on='Location')\n",
    "df.info()"
   ]
  },
  {
   "cell_type": "code",
   "execution_count": 8,
   "metadata": {},
   "outputs": [],
   "source": [
    "# for safekeeping\n",
    "df.to_csv('Median Income and Gini Index by US County.csv')"
   ]
  },
  {
   "cell_type": "markdown",
   "metadata": {},
   "source": [
    "### Create a column for FIPS, which we will use to compare Flood Insurance Claims on the county level"
   ]
  },
  {
   "cell_type": "code",
   "execution_count": 9,
   "metadata": {},
   "outputs": [],
   "source": [
    "# Set the Location variable as type string\n",
    "df.Location = df.Location.astype(str)\n",
    "\n",
    "# define a lambda expression to string slice out the state fips, and apply to the dataframe.\n",
    "state_fips = lambda a: a[a.find('state:')+6:a.find('state:')+8]\n",
    "df['state_fips'] = df['Location'].apply(state_fips)\n",
    "\n",
    "# define a lambda expression to string slice out the county fips, and apply to the dataframe.\n",
    "county_fips = lambda a: a[a.find('county:')+7:a.find('county:')+11]\n",
    "df['county_fips'] = df['Location'].apply(county_fips)\n",
    "\n",
    "# Combine the two strings for the state and county fips to a single fips. \n",
    "# We will keep as type string for now\n",
    "df['fips'] = df.state_fips+df.county_fips\n",
    "df.fips = df.fips.astype('int32')\n",
    "df = df[['Location','median_income', 'gini_index','fips']]\n",
    "df.to_csv('Location_MedianIncome_GiniIndex_Fips.csv',index=False)"
   ]
  },
  {
   "cell_type": "code",
   "execution_count": 10,
   "metadata": {},
   "outputs": [
    {
     "data": {
      "text/html": [
       "<div>\n",
       "<style scoped>\n",
       "    .dataframe tbody tr th:only-of-type {\n",
       "        vertical-align: middle;\n",
       "    }\n",
       "\n",
       "    .dataframe tbody tr th {\n",
       "        vertical-align: top;\n",
       "    }\n",
       "\n",
       "    .dataframe thead th {\n",
       "        text-align: right;\n",
       "    }\n",
       "</style>\n",
       "<table border=\"1\" class=\"dataframe\">\n",
       "  <thead>\n",
       "    <tr style=\"text-align: right;\">\n",
       "      <th></th>\n",
       "      <th>Location</th>\n",
       "      <th>median_income</th>\n",
       "      <th>gini_index</th>\n",
       "      <th>fips</th>\n",
       "    </tr>\n",
       "  </thead>\n",
       "  <tbody>\n",
       "    <tr>\n",
       "      <td>0</td>\n",
       "      <td>Monroe County, Alabama: Summary level: 050, st...</td>\n",
       "      <td>41658</td>\n",
       "      <td>0.5568</td>\n",
       "      <td>1099</td>\n",
       "    </tr>\n",
       "    <tr>\n",
       "      <td>1</td>\n",
       "      <td>Lawrence County, Alabama: Summary level: 050, ...</td>\n",
       "      <td>55358</td>\n",
       "      <td>0.4317</td>\n",
       "      <td>1079</td>\n",
       "    </tr>\n",
       "    <tr>\n",
       "      <td>2</td>\n",
       "      <td>Lee County, Alabama: Summary level: 050, state...</td>\n",
       "      <td>65100</td>\n",
       "      <td>0.5008</td>\n",
       "      <td>1081</td>\n",
       "    </tr>\n",
       "    <tr>\n",
       "      <td>3</td>\n",
       "      <td>Marion County, Alabama: Summary level: 050, st...</td>\n",
       "      <td>45959</td>\n",
       "      <td>0.4734</td>\n",
       "      <td>1093</td>\n",
       "    </tr>\n",
       "    <tr>\n",
       "      <td>4</td>\n",
       "      <td>Pickens County, Alabama: Summary level: 050, s...</td>\n",
       "      <td>50732</td>\n",
       "      <td>0.4840</td>\n",
       "      <td>1107</td>\n",
       "    </tr>\n",
       "  </tbody>\n",
       "</table>\n",
       "</div>"
      ],
      "text/plain": [
       "                                            Location  median_income  \\\n",
       "0  Monroe County, Alabama: Summary level: 050, st...          41658   \n",
       "1  Lawrence County, Alabama: Summary level: 050, ...          55358   \n",
       "2  Lee County, Alabama: Summary level: 050, state...          65100   \n",
       "3  Marion County, Alabama: Summary level: 050, st...          45959   \n",
       "4  Pickens County, Alabama: Summary level: 050, s...          50732   \n",
       "\n",
       "   gini_index  fips  \n",
       "0      0.5568  1099  \n",
       "1      0.4317  1079  \n",
       "2      0.5008  1081  \n",
       "3      0.4734  1093  \n",
       "4      0.4840  1107  "
      ]
     },
     "execution_count": 10,
     "metadata": {},
     "output_type": "execute_result"
    }
   ],
   "source": [
    "df.head()"
   ]
  },
  {
   "cell_type": "code",
   "execution_count": null,
   "metadata": {},
   "outputs": [],
   "source": []
  }
 ],
 "metadata": {
  "kernelspec": {
   "display_name": "Python 3",
   "language": "python",
   "name": "python3"
  },
  "language_info": {
   "codemirror_mode": {
    "name": "ipython",
    "version": 3
   },
   "file_extension": ".py",
   "mimetype": "text/x-python",
   "name": "python",
   "nbconvert_exporter": "python",
   "pygments_lexer": "ipython3",
   "version": "3.7.4"
  }
 },
 "nbformat": 4,
 "nbformat_minor": 4
}
